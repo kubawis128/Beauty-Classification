{
  "nbformat": 4,
  "nbformat_minor": 0,
  "metadata": {
    "colab": {
      "provenance": []
    },
    "kernelspec": {
      "name": "python3",
      "display_name": "Python 3"
    },
    "language_info": {
      "name": "python"
    },
    "accelerator": "GPU",
    "gpuClass": "standard"
  },
  "cells": [
    {
      "cell_type": "code",
      "execution_count": null,
      "metadata": {
        "id": "x9r3zRrsJAhU"
      },
      "outputs": [],
      "source": [
        "import tensorflow as tf\n",
        "from tensorflow.keras import datasets, layers, models, utils\n",
        "import matplotlib.pyplot as plt\n",
        "import numpy as np\n",
        "from tensorflow.keras.losses import categorical_crossentropy\n",
        "from tensorflow.keras.optimizers import Adam, RMSprop\n",
        "import tensorflow.keras as keras"
      ]
    },
    {
      "cell_type": "code",
      "source": [
        "from google.colab import drive\n",
        "drive.mount('/content/drive')"
      ],
      "metadata": {
        "id": "8dbqJGDEJVU-"
      },
      "execution_count": null,
      "outputs": []
    },
    {
      "cell_type": "code",
      "source": [
        "# some varibles\n",
        "data_dir = \"/content/drive/MyDrive/mordy/\"\n",
        "batch_size = 8\n",
        "img_height = 128\n",
        "img_width = 128"
      ],
      "metadata": {
        "id": "2Eu53SZyJBbN"
      },
      "execution_count": null,
      "outputs": []
    },
    {
      "cell_type": "code",
      "source": [
        "# init dataset\n",
        "train_ds = tf.keras.utils.image_dataset_from_directory(\n",
        "  data_dir,\n",
        "  validation_split=0.1,\n",
        "  subset=\"training\",\n",
        "  seed=3412,\n",
        "  image_size=(img_height, img_width),\n",
        "  batch_size=batch_size)\n",
        "\n",
        "val_ds = tf.keras.utils.image_dataset_from_directory(\n",
        "  data_dir,\n",
        "  validation_split=0.1,\n",
        "  subset=\"validation\",\n",
        "  seed=1243,\n",
        "  image_size=(img_height, img_width),\n",
        "  batch_size=batch_size)\n",
        "\n",
        "# ['1', '2', '3', '4', '5']\n",
        "class_names = train_ds.class_names\n",
        "\n",
        "# 5\n",
        "num_classes = len(class_names)"
      ],
      "metadata": {
        "colab": {
          "base_uri": "https://localhost:8080/"
        },
        "id": "BRcvCOaaJFW1",
        "outputId": "5c66b299-5b70-4833-eb6e-35de5f395486"
      },
      "execution_count": null,
      "outputs": [
        {
          "output_type": "stream",
          "name": "stdout",
          "text": [
            "Found 296 files belonging to 5 classes.\n",
            "Using 267 files for training.\n",
            "Found 296 files belonging to 5 classes.\n",
            "Using 29 files for validation.\n"
          ]
        }
      ]
    },
    {
      "cell_type": "code",
      "source": [
        "data_augmentation = keras.Sequential(\n",
        "  [\n",
        "    layers.RandomFlip(\"horizontal\",\n",
        "                      input_shape=(img_height,\n",
        "                                  img_width,\n",
        "                                  3)),\n",
        "    layers.RandomRotation(0.1),\n",
        "    layers.RandomZoom(0.1),\n",
        "  ]\n",
        ")\n",
        "\n",
        "# to trzeba wymienić na cos innego bo bieda\n",
        "model = tf.keras.Sequential([\n",
        "  data_augmentation,\n",
        "  tf.keras.layers.Rescaling(1./255),\n",
        "  tf.keras.layers.Conv2D(16, 3, activation='relu'),\n",
        "  tf.keras.layers.MaxPooling2D(),\n",
        "  tf.keras.layers.Conv2D(32, 3, activation='relu'),\n",
        "  tf.keras.layers.MaxPooling2D(),\n",
        "  tf.keras.layers.Conv2D(64, 3, activation='relu'),\n",
        "  tf.keras.layers.MaxPooling2D(),\n",
        "  tf.keras.layers.Flatten(),\n",
        "  tf.keras.layers.Dense(128, activation='relu'),\n",
        "  tf.keras.layers.Dense(num_classes)\n",
        "])\n",
        "\n",
        "model.compile(\n",
        "  optimizer='adam',\n",
        "  loss=tf.keras.losses.SparseCategoricalCrossentropy(from_logits=True),\n",
        "  metrics=['accuracy'])"
      ],
      "metadata": {
        "id": "rM7whwcTJHh8"
      },
      "execution_count": null,
      "outputs": []
    },
    {
      "cell_type": "code",
      "source": [
        "plt.figure(figsize=(10, 10))\n",
        "for images, _ in train_ds.take(1):\n",
        "  for i in range(9):\n",
        "    augmented_images = data_augmentation(images)\n",
        "    ax = plt.subplot(3, 3, i + 1)\n",
        "    plt.imshow(augmented_images[0].numpy().astype(\"uint8\"))\n",
        "    plt.axis(\"off\")\n"
      ],
      "metadata": {
        "id": "ldaChZjmJ2Zl"
      },
      "execution_count": null,
      "outputs": []
    },
    {
      "cell_type": "code",
      "source": [
        "# for statistics\n",
        "history = model.fit(train_ds, epochs=75, \n",
        "                    validation_data=val_ds,batch_size = batch_size)\n",
        "\n",
        "acc = history.history['accuracy']\n",
        "val_acc = history.history['val_accuracy']\n",
        "\n",
        "loss = history.history['loss']\n",
        "val_loss = history.history['val_loss']\n",
        "\n",
        "epochs_range = range(5)"
      ],
      "metadata": {
        "id": "GICZw844JOOF"
      },
      "execution_count": null,
      "outputs": []
    },
    {
      "cell_type": "code",
      "source": [
        "epochs_range = range(75)\n",
        "plt.figure(figsize=(8, 8))\n",
        "plt.subplot(1, 2, 1)\n",
        "plt.plot(epochs_range, acc, label='Training Accuracy')\n",
        "plt.plot(epochs_range, val_acc, label='Validation Accuracy')\n",
        "plt.legend(loc='lower right')\n",
        "plt.title('Training and Validation Accuracy')\n",
        "\n",
        "plt.subplot(1, 2, 2)\n",
        "plt.plot(epochs_range, loss, label='Training Loss')\n",
        "plt.plot(epochs_range, val_loss, label='Validation Loss')\n",
        "plt.legend(loc='upper right')\n",
        "plt.title('Training and Validation Loss')\n",
        "plt.savefig('dzban.png')\n",
        "\n",
        "# Save model \n",
        "model.save('/content/drive/MyDrive/models/test1')"
      ],
      "metadata": {
        "id": "qewM36U2JPgF"
      },
      "execution_count": null,
      "outputs": []
    },
    {
      "cell_type": "code",
      "source": [
        "import os\n",
        "model = keras.models.load_model('/content/drive/MyDrive/models/test1')\n",
        "plt.figure(figsize=(30, 30))\n",
        "\n",
        "images = np.array(os.listdir(\"/content/drive/MyDrive/mordy-validate/\"))\n",
        "i = -1\n",
        "for image in images:\n",
        "  i = i + 1\n",
        "  img = keras.preprocessing.image.load_img(\n",
        "    \"/content/drive/MyDrive/mordy-validate/\" + image, target_size=(128, 128)\n",
        "  )\n",
        "  img_array = keras.preprocessing.image.img_to_array(img)\n",
        "  img_array = tf.expand_dims(img_array, 0) # Create a batch\n",
        "  predictions = model.predict(img_array)\n",
        "  score = tf.nn.softmax(predictions[0])\n",
        "  ax = plt.subplot(5, 7, i + 1)\n",
        "  plt.tight_layout()\n",
        "  plt.imshow(img)\n",
        "  plt.title( \"{} with a {:.2f}%\".format(class_names[np.argmax(score)], 100 * np.max(score)) + \"\\n\" +str(image) )\n",
        "  plt.axis(\"off\")\n",
        "plt.savefig('/content/drive/MyDrive/mordy-results.png',facecolor=\"white\")"
      ],
      "metadata": {
        "id": "3jOAa43-LzLO"
      },
      "execution_count": null,
      "outputs": []
    },
    {
      "cell_type": "code",
      "source": [
        "from tensorflow.keras.models import Model\n",
        "img = keras.preprocessing.image.load_img(\n",
        "  \"/content/drive/MyDrive/mordy-validate/putin.png\", target_size=(128, 128)\n",
        ")\n",
        "img_array = keras.preprocessing.image.img_to_array(img)\n",
        "img_array = tf.expand_dims(img_array, 0) # Create a batch\n",
        "feature_maps = model.predict(img_array)\n",
        "# plot all 64 maps in an 8x8 squares\n",
        "x = 0\n",
        "for irr in range(len(model.layers) - 1):\n",
        "  x = x + 1\n",
        "  activation_model =  Model(inputs=model.inputs, outputs=model.layers[x].output)\n",
        "\n",
        "  img = keras.preprocessing.image.load_img(\n",
        "    \"/content/drive/MyDrive/mordy-validate/putin.png\", target_size=(128, 128)\n",
        "  )\n",
        "  img_tensor = keras.preprocessing.image.img_to_array(img)\n",
        "  img_tensor = np.expand_dims(img_tensor, axis=0)\n",
        "  img_tensor /= 255.\n",
        "\n",
        "  activation = activation_model(img_tensor)\n",
        "\n",
        "  plt.figure(figsize=(20,20))\n",
        "  for i in range(16):\n",
        "      plt.subplot(4,4,i+1)\n",
        "      try:\n",
        "        plt.imshow(activation[0,:,:,i])\n",
        "      except:\n",
        "        ...\n",
        "  try:\n",
        "    _ = plt.colorbar()\n",
        "  except:\n",
        "    ...\n",
        "plt.show()"
      ],
      "metadata": {
        "id": "JveRqi_NQWKz"
      },
      "execution_count": null,
      "outputs": []
    }
  ]
}
